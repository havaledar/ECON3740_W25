{
  "nbformat": 4,
  "nbformat_minor": 0,
  "metadata": {
    "colab": {
      "provenance": [],
      "authorship_tag": "ABX9TyPqrX9R82iUwtTQ3ImpKNpz",
      "include_colab_link": true
    },
    "kernelspec": {
      "name": "python3",
      "display_name": "Python 3"
    },
    "language_info": {
      "name": "python"
    }
  },
  "cells": [
    {
      "cell_type": "markdown",
      "metadata": {
        "id": "view-in-github",
        "colab_type": "text"
      },
      "source": [
        "<a href=\"https://colab.research.google.com/github/havaledar/ECON3740_W25/blob/main/ECON3740_W25_lab6.ipynb\" target=\"_parent\"><img src=\"https://colab.research.google.com/assets/colab-badge.svg\" alt=\"Open In Colab\"/></a>"
      ]
    },
    {
      "cell_type": "markdown",
      "source": [
        "# F test"
      ],
      "metadata": {
        "id": "g8raLdutDbD0"
      }
    },
    {
      "cell_type": "markdown",
      "source": [
        "## Libraries"
      ],
      "metadata": {
        "id": "kNs9ogBOFdTi"
      }
    },
    {
      "cell_type": "code",
      "source": [
        "!pip install wooldridge\n",
        "\n",
        "import wooldridge as woo\n",
        "\n",
        "import pandas as pd\n",
        "import statsmodels.api as sm"
      ],
      "metadata": {
        "colab": {
          "base_uri": "https://localhost:8080/"
        },
        "id": "oDtMgu1yE7sJ",
        "outputId": "dc4f7dd3-6ea2-4a9c-d205-e0eaf623da02"
      },
      "execution_count": null,
      "outputs": [
        {
          "output_type": "stream",
          "name": "stdout",
          "text": [
            "Collecting wooldridge\n",
            "  Downloading wooldridge-0.4.5-py3-none-any.whl.metadata (2.6 kB)\n",
            "Requirement already satisfied: pandas in /usr/local/lib/python3.11/dist-packages (from wooldridge) (2.2.2)\n",
            "Requirement already satisfied: numpy>=1.23.2 in /usr/local/lib/python3.11/dist-packages (from pandas->wooldridge) (1.26.4)\n",
            "Requirement already satisfied: python-dateutil>=2.8.2 in /usr/local/lib/python3.11/dist-packages (from pandas->wooldridge) (2.8.2)\n",
            "Requirement already satisfied: pytz>=2020.1 in /usr/local/lib/python3.11/dist-packages (from pandas->wooldridge) (2025.1)\n",
            "Requirement already satisfied: tzdata>=2022.7 in /usr/local/lib/python3.11/dist-packages (from pandas->wooldridge) (2025.1)\n",
            "Requirement already satisfied: six>=1.5 in /usr/local/lib/python3.11/dist-packages (from python-dateutil>=2.8.2->pandas->wooldridge) (1.17.0)\n",
            "Downloading wooldridge-0.4.5-py3-none-any.whl (5.1 MB)\n",
            "\u001b[2K   \u001b[90m━━━━━━━━━━━━━━━━━━━━━━━━━━━━━━━━━━━━━━━━\u001b[0m \u001b[32m5.1/5.1 MB\u001b[0m \u001b[31m24.2 MB/s\u001b[0m eta \u001b[36m0:00:00\u001b[0m\n",
            "\u001b[?25hInstalling collected packages: wooldridge\n",
            "Successfully installed wooldridge-0.4.5\n"
          ]
        }
      ]
    },
    {
      "cell_type": "markdown",
      "source": [
        "## data"
      ],
      "metadata": {
        "id": "MBoISszfFcNR"
      }
    },
    {
      "cell_type": "code",
      "source": [
        "df = woo.data('discrim')"
      ],
      "metadata": {
        "id": "yoZkki4DFDRo"
      },
      "execution_count": null,
      "outputs": []
    },
    {
      "cell_type": "markdown",
      "source": [
        "## NA"
      ],
      "metadata": {
        "id": "XEJQWDCyFgzE"
      }
    },
    {
      "cell_type": "code",
      "source": [
        "df = df[['lpsoda', 'prpblck', 'lincome', 'prppov', 'lhseval']].dropna()"
      ],
      "metadata": {
        "id": "vYjYjdX7Dc3y"
      },
      "execution_count": null,
      "outputs": []
    },
    {
      "cell_type": "markdown",
      "source": [
        "## Models"
      ],
      "metadata": {
        "id": "YypdFE1GFoPM"
      }
    },
    {
      "cell_type": "code",
      "source": [
        "y = df['lpsoda']"
      ],
      "metadata": {
        "id": "IxzxrnQ8F4By"
      },
      "execution_count": null,
      "outputs": []
    },
    {
      "cell_type": "markdown",
      "source": [
        "### Full"
      ],
      "metadata": {
        "id": "1ZwvTvBQFu_a"
      }
    },
    {
      "cell_type": "code",
      "source": [
        "X_full = df[['prpblck', 'lincome', 'prppov', 'lhseval']]"
      ],
      "metadata": {
        "id": "0-wOi5bYF0e3"
      },
      "execution_count": null,
      "outputs": []
    },
    {
      "cell_type": "markdown",
      "source": [
        "### Restricted"
      ],
      "metadata": {
        "id": "SR2Dj2WYFxMc"
      }
    },
    {
      "cell_type": "code",
      "source": [
        "X_restricted = df[['prpblck', 'prppov']]"
      ],
      "metadata": {
        "id": "gSiIUJZkF2Qa"
      },
      "execution_count": null,
      "outputs": []
    },
    {
      "cell_type": "markdown",
      "source": [
        "## Intercept"
      ],
      "metadata": {
        "id": "OFLMU5q6GXci"
      }
    },
    {
      "cell_type": "code",
      "source": [
        "X_full = sm.add_constant(X_full)\n",
        "X_restricted = sm.add_constant(X_restricted)"
      ],
      "metadata": {
        "id": "Qa1O9f_XFnic"
      },
      "execution_count": null,
      "outputs": []
    },
    {
      "cell_type": "markdown",
      "source": [
        "## Fitting the models"
      ],
      "metadata": {
        "id": "vgtB4-JWGdTx"
      }
    },
    {
      "cell_type": "code",
      "source": [
        "model_full = sm.OLS(y, X_full).fit()\n",
        "model_restricted = sm.OLS(y, X_restricted).fit()"
      ],
      "metadata": {
        "id": "8J8L-T94Gfcy"
      },
      "execution_count": null,
      "outputs": []
    },
    {
      "cell_type": "markdown",
      "source": [
        "## F test"
      ],
      "metadata": {
        "id": "xozV2p35GjHh"
      }
    },
    {
      "cell_type": "code",
      "source": [
        "f_test_result = model_full.compare_f_test(model_restricted)"
      ],
      "metadata": {
        "id": "A8J417tLGktu"
      },
      "execution_count": null,
      "outputs": []
    },
    {
      "cell_type": "code",
      "source": [
        "f_test_result"
      ],
      "metadata": {
        "colab": {
          "base_uri": "https://localhost:8080/"
        },
        "id": "kod8a415G1E7",
        "outputId": "80974aa3-1acd-4d49-d9d9-c31dee064b38"
      },
      "execution_count": null,
      "outputs": [
        {
          "output_type": "execute_result",
          "data": {
            "text/plain": [
              "(38.147790395225485, 7.068026768820865e-16, 2.0)"
            ]
          },
          "metadata": {},
          "execution_count": 14
        }
      ]
    },
    {
      "cell_type": "code",
      "source": [
        "print(f\"F-statistic: {f_test_result[0]}\\n\"\n",
        "      f\"p-value: {f_test_result[1]}\\n\"\n",
        "      f\"Degrees of freedom: {f_test_result[2]}\")"
      ],
      "metadata": {
        "colab": {
          "base_uri": "https://localhost:8080/"
        },
        "id": "NflESxHxGrCe",
        "outputId": "5d4a5bde-9dfd-4341-a4d5-3cc852ccda18"
      },
      "execution_count": null,
      "outputs": [
        {
          "output_type": "stream",
          "name": "stdout",
          "text": [
            "F-statistic: 38.147790395225485\n",
            "p-value: 7.068026768820865e-16\n",
            "Degrees of freedom: 2.0\n"
          ]
        }
      ]
    },
    {
      "cell_type": "markdown",
      "source": [
        "# Matplotlib"
      ],
      "metadata": {
        "id": "_Rb1fYJlHMLA"
      }
    },
    {
      "cell_type": "markdown",
      "source": [
        "## Basics of matplotlib and its plotting functions\n",
        "Matplotlib is a comprehensive library for creating static, animated, and interactive visualizations in Python. It's highly customizable and works well with numpy and pandas data structures, making it a popular choice for data visualization in scientific computing."
      ],
      "metadata": {
        "id": "lPL2x5Ail0k7"
      }
    },
    {
      "cell_type": "markdown",
      "source": [
        "## Libraries\n",
        "First, let's import the matplotlib library along with numpy for some basic data manipulation:"
      ],
      "metadata": {
        "id": "NHNv98TqmI3N"
      }
    },
    {
      "cell_type": "code",
      "source": [
        "import numpy as np\n",
        "import pandas as pd\n",
        "\n",
        "import matplotlib.pyplot as plt\n",
        "from scipy.stats import gaussian_kde"
      ],
      "metadata": {
        "id": "0-EEFfwNmLJy"
      },
      "execution_count": null,
      "outputs": []
    },
    {
      "cell_type": "markdown",
      "source": [
        "## Type of plots"
      ],
      "metadata": {
        "id": "sJVyjEyMKWfX"
      }
    },
    {
      "cell_type": "markdown",
      "source": [
        "### Line Plot\n",
        "A basic plot to display data points linearly connected by straight line segments."
      ],
      "metadata": {
        "id": "GvfyuZqnKpGT"
      }
    },
    {
      "cell_type": "code",
      "source": [
        "x = np.linspace(0, 10, 100)\n",
        "y = np.sin(x)"
      ],
      "metadata": {
        "id": "19JmOILP22wA"
      },
      "execution_count": null,
      "outputs": []
    },
    {
      "cell_type": "code",
      "source": [
        "plt.plot(x, y)\n",
        "\n",
        "plt.show()"
      ],
      "metadata": {
        "id": "q_8e1gg0KbHv"
      },
      "execution_count": null,
      "outputs": []
    },
    {
      "cell_type": "markdown",
      "source": [
        "### Scatter Plot\n",
        "Used to plot points on a horizontal and vertical axis to show how much one variable is affected by another."
      ],
      "metadata": {
        "id": "5gcOK44YK0ib"
      }
    },
    {
      "cell_type": "code",
      "source": [
        "# x = np.random.rand(100)\n",
        "# y = np.random.rand(100)"
      ],
      "metadata": {
        "id": "UrESBwr_3NAP"
      },
      "execution_count": null,
      "outputs": []
    },
    {
      "cell_type": "code",
      "source": [
        "plt.scatter(x, y)\n",
        "\n",
        "plt.show()"
      ],
      "metadata": {
        "id": "NGHMhVewK4a_"
      },
      "execution_count": null,
      "outputs": []
    },
    {
      "cell_type": "markdown",
      "source": [
        "### Bar Chart\n",
        "A bar chart represents data with rectangular bars with lengths proportional to the values they represent."
      ],
      "metadata": {
        "id": "SlZ6bUq7LAN8"
      }
    },
    {
      "cell_type": "code",
      "source": [
        "categories = ['A', 'B', 'C', 'D']\n",
        "values = [25, 35, 15, 20]"
      ],
      "metadata": {
        "id": "ZrazTlj-3fSb"
      },
      "execution_count": null,
      "outputs": []
    },
    {
      "cell_type": "code",
      "source": [
        "plt.bar(categories, values)\n",
        "\n",
        "plt.show()"
      ],
      "metadata": {
        "id": "M9NzcqUBLDSF"
      },
      "execution_count": null,
      "outputs": []
    },
    {
      "cell_type": "markdown",
      "source": [
        "### Pie Chart\n",
        "A pie chart is a circular statistical graphic divided into slices to illustrate numerical proportion."
      ],
      "metadata": {
        "id": "R8iawydgLZXI"
      }
    },
    {
      "cell_type": "code",
      "source": [
        "# sizes = [25, 35, 20, 20]\n",
        "# labels = ['Category A', 'Category B', 'Category C', 'Category D']"
      ],
      "metadata": {
        "id": "w0JCcRmL36hX"
      },
      "execution_count": null,
      "outputs": []
    },
    {
      "cell_type": "code",
      "source": [
        "plt.pie(values, labels=categories)\n",
        "\n",
        "plt.show()"
      ],
      "metadata": {
        "id": "U85W-ewZLa4A"
      },
      "execution_count": null,
      "outputs": []
    },
    {
      "cell_type": "markdown",
      "source": [
        "###Histogram\n",
        "A histogram represents the distribution of data by forming bins along the range of the data and then drawing bars to show the number of observations that fall in each bin."
      ],
      "metadata": {
        "id": "I2VGy2I2LNyd"
      }
    },
    {
      "cell_type": "markdown",
      "source": [
        "https://matplotlib.org/stable/api/_as_gen/matplotlib.pyplot.hist.html"
      ],
      "metadata": {
        "id": "8UyJx4Z9F_cR"
      }
    },
    {
      "cell_type": "code",
      "source": [
        "data = np.random.randn(1000)"
      ],
      "metadata": {
        "id": "_3lu5c1h4ztw"
      },
      "execution_count": null,
      "outputs": []
    },
    {
      "cell_type": "code",
      "source": [
        "plt.hist(data)\n",
        "\n",
        "plt.show()"
      ],
      "metadata": {
        "id": "bhjesVALLPsV"
      },
      "execution_count": null,
      "outputs": []
    },
    {
      "cell_type": "code",
      "source": [
        "plt.hist(data, density=True)\n",
        "\n",
        "plt.show()"
      ],
      "metadata": {
        "id": "IgDiF8sYa0L3"
      },
      "execution_count": null,
      "outputs": []
    },
    {
      "cell_type": "code",
      "source": [
        "plt.hist(data, density=True)\n",
        "\n",
        "kde = gaussian_kde(data)\n",
        "x = np.linspace(min(data), max(data), 1000)\n",
        "plt.plot(x, kde(x), color='orange')\n",
        "\n",
        "plt.show()"
      ],
      "metadata": {
        "id": "v7-BmIKCeFTp"
      },
      "execution_count": null,
      "outputs": []
    },
    {
      "cell_type": "markdown",
      "source": [
        "### Box Plot\n",
        "A box plot, or box-and-whisker plot, shows the distribution of quantitative data in a way that facilitates comparisons between variables or across levels of a categorical variable."
      ],
      "metadata": {
        "id": "DfCKI539Lre4"
      }
    },
    {
      "cell_type": "code",
      "source": [
        "data = np.random.rand(10, 4)"
      ],
      "metadata": {
        "id": "FUXcnwxq7Oiu"
      },
      "execution_count": null,
      "outputs": []
    },
    {
      "cell_type": "code",
      "source": [
        "plt.boxplot(data)\n",
        "\n",
        "plt.show()"
      ],
      "metadata": {
        "id": "6xEt8Io2LuXk"
      },
      "execution_count": null,
      "outputs": []
    },
    {
      "cell_type": "markdown",
      "source": [
        "### Heatmap\n",
        "A heatmap contains values represented as colors and is used for visualizing the correlation matrix, among other uses."
      ],
      "metadata": {
        "id": "qg7e-WxwMJll"
      }
    },
    {
      "cell_type": "code",
      "source": [
        "data = np.random.rand(10, 10)"
      ],
      "metadata": {
        "id": "5z3mNYhH7nVR"
      },
      "execution_count": null,
      "outputs": []
    },
    {
      "cell_type": "code",
      "source": [
        "plt.imshow(data, cmap='hot', interpolation='nearest')\n",
        "\n",
        "plt.show()"
      ],
      "metadata": {
        "id": "jI5it6cFMKCf"
      },
      "execution_count": null,
      "outputs": []
    },
    {
      "cell_type": "markdown",
      "source": [
        "## Residuals"
      ],
      "metadata": {
        "id": "IKK19iqXI18s"
      }
    },
    {
      "cell_type": "code",
      "source": [
        "%%capture\n",
        "!pip install wooldridge\n",
        "\n",
        "import wooldridge as woo\n",
        "import statsmodels.formula.api as smf"
      ],
      "metadata": {
        "id": "pa6h6lNk8Jye"
      },
      "execution_count": null,
      "outputs": []
    },
    {
      "cell_type": "code",
      "source": [
        "data = woo.data('ceosal2')\n",
        "\n",
        "model = smf.ols('salary ~ ceoten', data)\n",
        "\n",
        "results = model.fit()\n",
        "\n",
        "print(results.summary())"
      ],
      "metadata": {
        "id": "baHo_ySQ9VeP"
      },
      "execution_count": null,
      "outputs": []
    },
    {
      "cell_type": "code",
      "source": [
        "results.resid"
      ],
      "metadata": {
        "id": "pj7SuSxG8o0Q"
      },
      "execution_count": null,
      "outputs": []
    },
    {
      "cell_type": "markdown",
      "source": [
        "## CEOSAL plot\n",
        "Now, we'll create a simple line plot."
      ],
      "metadata": {
        "id": "ReSytkvomNDY"
      }
    },
    {
      "cell_type": "code",
      "source": [
        "%%capture\n",
        "\n",
        "!pip install wooldridge\n",
        "\n",
        "import wooldridge as woo\n",
        "\n",
        "data = woo.data('ceosal2')"
      ],
      "metadata": {
        "id": "NGRM5IG9Fyy8"
      },
      "execution_count": null,
      "outputs": []
    },
    {
      "cell_type": "code",
      "source": [
        "x = data['ceoten']\n",
        "y = data['salary']\n",
        "\n",
        "plt.scatter(x, y)\n",
        "plt.show()"
      ],
      "metadata": {
        "id": "1uQUMFPOmTB6"
      },
      "execution_count": null,
      "outputs": []
    },
    {
      "cell_type": "markdown",
      "source": [
        "## Customizing plots\n",
        "Matplotlib plots are highly customizable. You can change the labels, legends, colors, and markers to make your plots more informative and visually appealing."
      ],
      "metadata": {
        "id": "Li9r7Zy1xfkP"
      }
    },
    {
      "cell_type": "markdown",
      "source": [
        "### Figure size"
      ],
      "metadata": {
        "id": "CFfd7e-U_mvf"
      }
    },
    {
      "cell_type": "code",
      "source": [
        "# Create a figure\n",
        "plt.figure(figsize=(10, 8))\n",
        "\n",
        "# Create x and y variables\n",
        "x = data['ceoten']\n",
        "y = data['salary']\n",
        "\n",
        "# Create a line plot\n",
        "plt.scatter(x, y)\n",
        "# Display the plot\n",
        "plt.show()"
      ],
      "metadata": {
        "id": "nuJ81HLR_ptc"
      },
      "execution_count": null,
      "outputs": []
    },
    {
      "cell_type": "markdown",
      "source": [
        "### Adding labels and title"
      ],
      "metadata": {
        "id": "UQwE-gCjxiwt"
      }
    },
    {
      "cell_type": "code",
      "source": [
        "plt.scatter(x, y)\n",
        "\n",
        "# Adding a title\n",
        "plt.title('Salary in $1000s vs. Number of years in the Company as CEO')\n",
        "\n",
        "# Adding the x and y labels\n",
        "plt.xlabel('Years')\n",
        "plt.ylabel('Salary')\n",
        "\n",
        "plt.show()\n"
      ],
      "metadata": {
        "id": "p1FSYvzLxlzz"
      },
      "execution_count": null,
      "outputs": []
    },
    {
      "cell_type": "markdown",
      "source": [
        "### Color"
      ],
      "metadata": {
        "id": "SvhEEMIcyGIq"
      }
    },
    {
      "cell_type": "code",
      "source": [
        "plt.scatter(x,\n",
        "            y,\n",
        "            color='green')\n",
        "\n",
        "# Adding a title\n",
        "plt.title('Salary in $1000s vs. Number of years in the Company as CEO')\n",
        "\n",
        "# Adding the x and y labels\n",
        "plt.xlabel('Years')\n",
        "plt.ylabel('Salary')\n",
        "\n",
        "plt.show()"
      ],
      "metadata": {
        "id": "y3rvoVDRyHPb"
      },
      "execution_count": null,
      "outputs": []
    },
    {
      "cell_type": "markdown",
      "source": [
        "### Marker"
      ],
      "metadata": {
        "id": "FtrX1Zdfz2wH"
      }
    },
    {
      "cell_type": "code",
      "source": [
        "plt.scatter(x,\n",
        "            y,\n",
        "            color='green',\n",
        "            marker='*')\n",
        "\n",
        "# Adding a title\n",
        "plt.title('Salary in $1000s vs. Number of years in the Company as CEO')\n",
        "\n",
        "# Adding the x and y labels\n",
        "plt.xlabel('Years')\n",
        "plt.ylabel('Salary')\n",
        "\n",
        "plt.show()"
      ],
      "metadata": {
        "id": "Xa8nBo51z3HV"
      },
      "execution_count": null,
      "outputs": []
    },
    {
      "cell_type": "markdown",
      "source": [
        "### Size"
      ],
      "metadata": {
        "id": "1orUvG4i0FoT"
      }
    },
    {
      "cell_type": "code",
      "source": [
        "plt.scatter(x,\n",
        "            y,\n",
        "            color='green',\n",
        "            marker='*',\n",
        "            s=100)\n",
        "\n",
        "# Adding a title\n",
        "plt.title('Salary in $1000s vs. Number of years in the Company as CEO')\n",
        "\n",
        "# Adding the x and y labels\n",
        "plt.xlabel('Years')\n",
        "plt.ylabel('Salary')\n",
        "\n",
        "plt.show()"
      ],
      "metadata": {
        "id": "NGw_U0qm0Jux"
      },
      "execution_count": null,
      "outputs": []
    },
    {
      "cell_type": "markdown",
      "source": [
        "### Transparency"
      ],
      "metadata": {
        "id": "PmUUDLP50WY4"
      }
    },
    {
      "cell_type": "code",
      "source": [
        "plt.scatter(x,\n",
        "            y,\n",
        "            color='green',\n",
        "            marker='*',\n",
        "            s=100,\n",
        "            alpha=0.1)\n",
        "\n",
        "# Adding a title\n",
        "plt.title('Salary in $1000s vs. Number of years in the Company as CEO')\n",
        "\n",
        "# Adding the x and y labels\n",
        "plt.xlabel('Years')\n",
        "plt.ylabel('Salary')\n",
        "\n",
        "plt.show()"
      ],
      "metadata": {
        "id": "CXJI-EbA0ViE"
      },
      "execution_count": null,
      "outputs": []
    },
    {
      "cell_type": "markdown",
      "source": [
        "### Border"
      ],
      "metadata": {
        "id": "SHTIXupJ0k-G"
      }
    },
    {
      "cell_type": "code",
      "source": [
        "plt.scatter(x,\n",
        "            y,\n",
        "            color='green',\n",
        "            marker='*',\n",
        "            s=100,\n",
        "            alpha=0.5,\n",
        "            edgecolors='black',\n",
        "            linewidths=1)\n",
        "\n",
        "# Adding a title\n",
        "plt.title('Salary in $1000s vs. Number of years in the Company as CEO')\n",
        "\n",
        "# Adding the x and y labels\n",
        "plt.xlabel('Years')\n",
        "plt.ylabel('Salary')\n",
        "\n",
        "plt.show()"
      ],
      "metadata": {
        "id": "B-Rz3QGr0myj"
      },
      "execution_count": null,
      "outputs": []
    },
    {
      "cell_type": "markdown",
      "source": [
        "### Adding a legend"
      ],
      "metadata": {
        "id": "VCGScu13zttd"
      }
    },
    {
      "cell_type": "code",
      "source": [
        "plt.scatter(x,\n",
        "            y,\n",
        "            color='green',\n",
        "            marker='*',\n",
        "            s=100,\n",
        "            alpha=0.5,\n",
        "            edgecolors='black',\n",
        "            linewidths=0.5,\n",
        "            label='Salary')\n",
        "\n",
        "# Adding a title\n",
        "plt.title('Salary in $1000s vs. Number of years in the Company as CEO')\n",
        "\n",
        "# Adding the x and y labels\n",
        "plt.xlabel('Years')\n",
        "plt.ylabel('Salary')\n",
        "\n",
        "# Adding the legend\n",
        "plt.legend()\n",
        "\n",
        "plt.show()"
      ],
      "metadata": {
        "id": "cOMaoS2hzwiX"
      },
      "execution_count": null,
      "outputs": []
    },
    {
      "cell_type": "markdown",
      "source": [
        "## Multiple plots"
      ],
      "metadata": {
        "id": "3g1bId3Y-NO-"
      }
    },
    {
      "cell_type": "code",
      "source": [
        "z = data['mktval']\n",
        "\n",
        "plt.scatter(x, y, label='Salary')\n",
        "\n",
        "# Adding a second plot\n",
        "plt.scatter(x, z, label='Market Value', color='red', alpha=0.5)\n",
        "\n",
        "plt.xlabel('Year')\n",
        "plt.ylabel('Amount')\n",
        "plt.title('Salary and Market Value vs. Year')\n",
        "plt.legend()\n",
        "\n",
        "plt.show()\n"
      ],
      "metadata": {
        "id": "dbm3UHmW-Pga"
      },
      "execution_count": null,
      "outputs": []
    },
    {
      "cell_type": "markdown",
      "source": [
        "## Subplot"
      ],
      "metadata": {
        "id": "uiklYZnk-7Cm"
      }
    },
    {
      "cell_type": "code",
      "source": [
        "# Create first subplot\n",
        "plt.subplot(2, 1, 1)\n",
        "plt.scatter(x, y, label='Salary')\n",
        "plt.xlabel('Year')\n",
        "plt.ylabel('Amount')\n",
        "plt.title('Salary vs. Year')\n",
        "plt.legend()\n",
        "\n",
        "# Create second subplot\n",
        "plt.subplot(2, 1, 2)\n",
        "plt.scatter(x, z, label='Market Value', color='red')\n",
        "plt.xlabel('Year')\n",
        "plt.ylabel('Amount')\n",
        "plt.title('Market Value vs. Year')\n",
        "plt.legend()\n",
        "\n",
        "# Adjust layout\n",
        "plt.tight_layout()\n",
        "\n",
        "plt.show()\n"
      ],
      "metadata": {
        "id": "lBCAYAJ0_A53"
      },
      "execution_count": null,
      "outputs": []
    }
  ]
}