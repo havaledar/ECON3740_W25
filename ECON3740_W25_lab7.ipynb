{
  "nbformat": 4,
  "nbformat_minor": 0,
  "metadata": {
    "colab": {
      "provenance": [],
      "authorship_tag": "ABX9TyNQKEdbwjf6APP7F9jwfyis",
      "include_colab_link": true
    },
    "kernelspec": {
      "name": "python3",
      "display_name": "Python 3"
    },
    "language_info": {
      "name": "python"
    }
  },
  "cells": [
    {
      "cell_type": "markdown",
      "metadata": {
        "id": "view-in-github",
        "colab_type": "text"
      },
      "source": [
        "<a href=\"https://colab.research.google.com/github/havaledar/ECON3740_W25/blob/main/ECON3740_W25_lab7.ipynb\" target=\"_parent\"><img src=\"https://colab.research.google.com/assets/colab-badge.svg\" alt=\"Open In Colab\"/></a>"
      ]
    },
    {
      "cell_type": "markdown",
      "source": [
        "# Matplotlib"
      ],
      "metadata": {
        "id": "_Rb1fYJlHMLA"
      }
    },
    {
      "cell_type": "markdown",
      "source": [
        "## Basics of matplotlib and its plotting functions\n",
        "Matplotlib is a comprehensive library for creating static, animated, and interactive visualizations in Python. It's highly customizable and works well with numpy and pandas data structures, making it a popular choice for data visualization in scientific computing."
      ],
      "metadata": {
        "id": "lPL2x5Ail0k7"
      }
    },
    {
      "cell_type": "markdown",
      "source": [
        "## Libraries\n",
        "First, let's import the matplotlib library along with numpy for some basic data manipulation:"
      ],
      "metadata": {
        "id": "NHNv98TqmI3N"
      }
    },
    {
      "cell_type": "code",
      "source": [
        "import numpy as np\n",
        "import pandas as pd\n",
        "\n",
        "import matplotlib.pyplot as plt"
      ],
      "metadata": {
        "id": "0-EEFfwNmLJy"
      },
      "execution_count": 1,
      "outputs": []
    },
    {
      "cell_type": "markdown",
      "source": [
        "## Type of plots"
      ],
      "metadata": {
        "id": "sJVyjEyMKWfX"
      }
    },
    {
      "cell_type": "markdown",
      "source": [
        "### Line Plot\n",
        "A basic plot to display data points linearly connected by straight line segments."
      ],
      "metadata": {
        "id": "GvfyuZqnKpGT"
      }
    },
    {
      "cell_type": "code",
      "source": [
        "x = np.linspace(0, 10, 100)\n",
        "y = np.sin(x)"
      ],
      "metadata": {
        "id": "19JmOILP22wA"
      },
      "execution_count": 3,
      "outputs": []
    },
    {
      "cell_type": "code",
      "source": [
        "plt.plot(x, y)\n",
        "\n",
        "plt.show()"
      ],
      "metadata": {
        "id": "q_8e1gg0KbHv"
      },
      "execution_count": null,
      "outputs": []
    },
    {
      "cell_type": "markdown",
      "source": [
        "### Scatter Plot\n",
        "Used to plot points on a horizontal and vertical axis to show how much one variable is affected by another."
      ],
      "metadata": {
        "id": "5gcOK44YK0ib"
      }
    },
    {
      "cell_type": "code",
      "source": [
        "x = np.random.rand(100)\n",
        "y = np.random.rand(100)"
      ],
      "metadata": {
        "id": "UrESBwr_3NAP"
      },
      "execution_count": 8,
      "outputs": []
    },
    {
      "cell_type": "code",
      "source": [
        "plt.scatter(x, y)\n",
        "\n",
        "plt.show()"
      ],
      "metadata": {
        "id": "NGHMhVewK4a_"
      },
      "execution_count": null,
      "outputs": []
    },
    {
      "cell_type": "markdown",
      "source": [
        "### Bar Chart\n",
        "A bar chart represents data with rectangular bars with lengths proportional to the values they represent."
      ],
      "metadata": {
        "id": "SlZ6bUq7LAN8"
      }
    },
    {
      "cell_type": "code",
      "source": [
        "categories = ['A', 'B', 'C', 'D']\n",
        "values = [25, 35, 15, 20]"
      ],
      "metadata": {
        "id": "ZrazTlj-3fSb"
      },
      "execution_count": 11,
      "outputs": []
    },
    {
      "cell_type": "code",
      "source": [
        "plt.bar(categories, values)\n",
        "\n",
        "plt.show()"
      ],
      "metadata": {
        "id": "M9NzcqUBLDSF",
        "colab": {
          "base_uri": "https://localhost:8080/",
          "height": 430
        },
        "outputId": "b816e751-1e2c-4482-dd2a-64cab9c76c04"
      },
      "execution_count": 12,
      "outputs": [
        {
          "output_type": "display_data",
          "data": {
            "text/plain": [
              "<Figure size 640x480 with 1 Axes>"
            ],
            "image/png": "[encoded data removed]"
          },
          "metadata": {}
        }
      ]
    },
    {
      "cell_type": "markdown",
      "source": [
        "### Pie Chart\n",
        "A pie chart is a circular statistical graphic divided into slices to illustrate numerical proportion."
      ],
      "metadata": {
        "id": "R8iawydgLZXI"
      }
    },
    {
      "cell_type": "code",
      "source": [
        "# sizes = [25, 35, 20, 20]\n",
        "# labels = ['Category A', 'Category B', 'Category C', 'Category D']"
      ],
      "metadata": {
        "id": "w0JCcRmL36hX"
      },
      "execution_count": null,
      "outputs": []
    },
    {
      "cell_type": "code",
      "source": [
        "plt.pie(values, labels=categories)\n",
        "\n",
        "plt.show()"
      ],
      "metadata": {
        "id": "U85W-ewZLa4A",
        "colab": {
          "base_uri": "https://localhost:8080/",
          "height": 406
        },
        "outputId": "5d5a62ae-6486-43c8-cb7c-c6a47b1311f4"
      },
      "execution_count": 13,
      "outputs": [
        {
          "output_type": "display_data",
          "data": {
            "text/plain": [
              "<Figure size 640x480 with 1 Axes>"
            ],
            "image/png": "[encoded data removed]"
          },
          "metadata": {}
        }
      ]
    },
    {
      "cell_type": "markdown",
      "source": [
        "###Histogram\n",
        "A histogram represents the distribution of data by forming bins along the range of the data and then drawing bars to show the number of observations that fall in each bin."
      ],
      "metadata": {
        "id": "I2VGy2I2LNyd"
      }
    },
    {
      "cell_type": "markdown",
      "source": [
        "https://matplotlib.org/stable/api/_as_gen/matplotlib.pyplot.hist.html"
      ],
      "metadata": {
        "id": "8UyJx4Z9F_cR"
      }
    },
    {
      "cell_type": "code",
      "source": [
        "data = np.random.randn(1000)"
      ],
      "metadata": {
        "id": "_3lu5c1h4ztw"
      },
      "execution_count": 14,
      "outputs": []
    },
    {
      "cell_type": "code",
      "source": [
        "plt.hist(data)\n",
        "\n",
        "plt.show()"
      ],
      "metadata": {
        "id": "bhjesVALLPsV",
        "colab": {
          "base_uri": "https://localhost:8080/",
          "height": 430
        },
        "outputId": "04fac050-28c1-467a-c7b6-8fa1f9f5a35c"
      },
      "execution_count": 15,
      "outputs": [
        {
          "output_type": "display_data",
          "data": {
            "text/plain": [
              "<Figure size 640x480 with 1 Axes>"
            ],
            "image/png": "[encoded data removed]"
          },
          "metadata": {}
        }
      ]
    },
    {
      "cell_type": "code",
      "source": [
        "plt.hist(data, density=True)\n",
        "\n",
        "plt.show()"
      ],
      "metadata": {
        "id": "IgDiF8sYa0L3",
        "colab": {
          "base_uri": "https://localhost:8080/",
          "height": 430
        },
        "outputId": "18c70310-78fe-4f08-fb73-07dbbba8291f"
      },
      "execution_count": 16,
      "outputs": [
        {
          "output_type": "display_data",
          "data": {
            "text/plain": [
              "<Figure size 640x480 with 1 Axes>"
            ],
            "image/png": "[encoded data removed]"
          },
          "metadata": {}
        }
      ]
    },
    {
      "cell_type": "markdown",
      "source": [
        "### Box Plot\n",
        "A box plot, or box-and-whisker plot, shows the distribution of quantitative data in a way that facilitates comparisons between variables or across levels of a categorical variable."
      ],
      "metadata": {
        "id": "DfCKI539Lre4"
      }
    },
    {
      "cell_type": "code",
      "source": [
        "data = np.random.rand(10, 4)"
      ],
      "metadata": {
        "id": "FUXcnwxq7Oiu"
      },
      "execution_count": 17,
      "outputs": []
    },
    {
      "cell_type": "code",
      "source": [
        "data"
      ],
      "metadata": {
        "colab": {
          "base_uri": "https://localhost:8080/"
        },
        "id": "IqmD-VXnu5vl",
        "outputId": "c6b679bd-39c0-442f-aad4-12162979309a"
      },
      "execution_count": 18,
      "outputs": [
        {
          "output_type": "execute_result",
          "data": {
            "text/plain": [
              "array([[0.34796389, 0.61365651, 0.42851784, 0.38094659],\n",
              "       [0.41633868, 0.93447297, 0.81066417, 0.03315958],\n",
              "       [0.21270592, 0.62126252, 0.23525848, 0.51123659],\n",
              "       [0.34183408, 0.55636229, 0.01969356, 0.36216184],\n",
              "       [0.72819052, 0.27068184, 0.83383102, 0.94066978],\n",
              "       [0.17000119, 0.60232652, 0.81958859, 0.78297493],\n",
              "       [0.45516537, 0.42368223, 0.98390602, 0.20084778],\n",
              "       [0.09368894, 0.04043768, 0.3053583 , 0.53806309],\n",
              "       [0.24234115, 0.41646726, 0.14828905, 0.57023841],\n",
              "       [0.93240979, 0.73179879, 0.69231997, 0.82570469]])"
            ]
          },
          "metadata": {},
          "execution_count": 18
        }
      ]
    },
    {
      "cell_type": "code",
      "source": [
        "plt.boxplot(data)\n",
        "\n",
        "plt.show()"
      ],
      "metadata": {
        "id": "6xEt8Io2LuXk",
        "colab": {
          "base_uri": "https://localhost:8080/",
          "height": 430
        },
        "outputId": "cd79c765-6781-4f1c-e297-5b3c246a51c2"
      },
      "execution_count": 12,
      "outputs": [
        {
          "output_type": "display_data",
          "data": {
            "text/plain": [
              "<Figure size 640x480 with 1 Axes>"
            ],
            "image/png": "[encoded data removed]"
          },
          "metadata": {}
        }
      ]
    },
    {
      "cell_type": "markdown",
      "source": [
        "### Heatmap\n",
        "A heatmap contains values represented as colors and is used for visualizing the correlation matrix, among other uses."
      ],
      "metadata": {
        "id": "qg7e-WxwMJll"
      }
    },
    {
      "cell_type": "code",
      "source": [
        "data = np.random.rand(10, 10)"
      ],
      "metadata": {
        "id": "5z3mNYhH7nVR"
      },
      "execution_count": 19,
      "outputs": []
    },
    {
      "cell_type": "code",
      "source": [
        "plt.imshow(data, cmap='hot', interpolation='nearest')\n",
        "\n",
        "plt.show()"
      ],
      "metadata": {
        "id": "jI5it6cFMKCf",
        "colab": {
          "base_uri": "https://localhost:8080/",
          "height": 430
        },
        "outputId": "eacd1454-b108-470e-ce8a-fdb09bb29bad"
      },
      "execution_count": 21,
      "outputs": [
        {
          "output_type": "display_data",
          "data": {
            "text/plain": [
              "<Figure size 640x480 with 1 Axes>"
            ],
            "image/png": "[encoded data removed]"
          },
          "metadata": {}
        }
      ]
    },
    {
      "cell_type": "markdown",
      "source": [
        "## CEOSAL plot\n",
        "Now, we'll create a simple line plot."
      ],
      "metadata": {
        "id": "ReSytkvomNDY"
      }
    },
    {
      "cell_type": "code",
      "source": [
        "%%capture\n",
        "\n",
        "!pip install wooldridge\n",
        "\n",
        "import wooldridge as woo\n",
        "\n",
        "data = woo.data('ceosal2')"
      ],
      "metadata": {
        "id": "NGRM5IG9Fyy8"
      },
      "execution_count": 15,
      "outputs": []
    },
    {
      "cell_type": "code",
      "source": [
        "x = data['ceoten']\n",
        "y = data['salary']\n",
        "\n",
        "plt.scatter(x, y)\n",
        "plt.show()"
      ],
      "metadata": {
        "id": "1uQUMFPOmTB6",
        "colab": {
          "base_uri": "https://localhost:8080/",
          "height": 430
        },
        "outputId": "1452cc38-ea45-4f80-ff04-4444ec97a023"
      },
      "execution_count": 16,
      "outputs": [
        {
          "output_type": "display_data",
          "data": {
            "text/plain": [
              "<Figure size 640x480 with 1 Axes>"
            ],
            "image/png": "[encoded data removed]"
          },
          "metadata": {}
        }
      ]
    },
    {
      "cell_type": "markdown",
      "source": [
        "## Customizing plots\n",
        "Matplotlib plots are highly customizable. You can change the labels, legends, colors, and markers to make your plots more informative and visually appealing."
      ],
      "metadata": {
        "id": "Li9r7Zy1xfkP"
      }
    },
    {
      "cell_type": "markdown",
      "source": [
        "### Figure size"
      ],
      "metadata": {
        "id": "CFfd7e-U_mvf"
      }
    },
    {
      "cell_type": "code",
      "source": [
        "# Create a figure\n",
        "plt.figure(figsize=(10, 8))\n",
        "\n",
        "# Create x and y variables\n",
        "x = data['ceoten']\n",
        "y = data['salary']\n",
        "\n",
        "# Create a line plot\n",
        "plt.scatter(x, y)\n",
        "# Display the plot\n",
        "plt.show()"
      ],
      "metadata": {
        "id": "nuJ81HLR_ptc"
      },
      "execution_count": null,
      "outputs": []
    },
    {
      "cell_type": "markdown",
      "source": [
        "### Adding labels and title"
      ],
      "metadata": {
        "id": "UQwE-gCjxiwt"
      }
    },
    {
      "cell_type": "code",
      "source": [
        "plt.scatter(x, y)\n",
        "\n",
        "# Adding a title\n",
        "plt.title('Salary in $1000s vs. Number of years in the Company as CEO')\n",
        "\n",
        "# Adding the x and y labels\n",
        "plt.xlabel('Years')\n",
        "plt.ylabel('Salary')\n",
        "\n",
        "plt.show()\n"
      ],
      "metadata": {
        "id": "p1FSYvzLxlzz"
      },
      "execution_count": null,
      "outputs": []
    },
    {
      "cell_type": "markdown",
      "source": [
        "### Color"
      ],
      "metadata": {
        "id": "SvhEEMIcyGIq"
      }
    },
    {
      "cell_type": "code",
      "source": [
        "plt.scatter(x,\n",
        "            y,\n",
        "            color='green')\n",
        "\n",
        "# Adding a title\n",
        "plt.title('Salary in $1000s vs. Number of years in the Company as CEO')\n",
        "\n",
        "# Adding the x and y labels\n",
        "plt.xlabel('Years')\n",
        "plt.ylabel('Salary')\n",
        "\n",
        "plt.show()"
      ],
      "metadata": {
        "id": "y3rvoVDRyHPb"
      },
      "execution_count": null,
      "outputs": []
    },
    {
      "cell_type": "markdown",
      "source": [
        "### Marker"
      ],
      "metadata": {
        "id": "FtrX1Zdfz2wH"
      }
    },
    {
      "cell_type": "code",
      "source": [
        "plt.scatter(x,\n",
        "            y,\n",
        "            color='green',\n",
        "            marker='*')\n",
        "\n",
        "# Adding a title\n",
        "plt.title('Salary in $1000s vs. Number of years in the Company as CEO')\n",
        "\n",
        "# Adding the x and y labels\n",
        "plt.xlabel('Years')\n",
        "plt.ylabel('Salary')\n",
        "\n",
        "plt.show()"
      ],
      "metadata": {
        "id": "Xa8nBo51z3HV"
      },
      "execution_count": null,
      "outputs": []
    },
    {
      "cell_type": "markdown",
      "source": [
        "### Size"
      ],
      "metadata": {
        "id": "1orUvG4i0FoT"
      }
    },
    {
      "cell_type": "code",
      "source": [
        "plt.scatter(x,\n",
        "            y,\n",
        "            color='green',\n",
        "            marker='*',\n",
        "            s=100)\n",
        "\n",
        "# Adding a title\n",
        "plt.title('Salary in $1000s vs. Number of years in the Company as CEO')\n",
        "\n",
        "# Adding the x and y labels\n",
        "plt.xlabel('Years')\n",
        "plt.ylabel('Salary')\n",
        "\n",
        "plt.show()"
      ],
      "metadata": {
        "id": "NGw_U0qm0Jux"
      },
      "execution_count": null,
      "outputs": []
    },
    {
      "cell_type": "markdown",
      "source": [
        "### Transparency"
      ],
      "metadata": {
        "id": "PmUUDLP50WY4"
      }
    },
    {
      "cell_type": "code",
      "source": [
        "plt.scatter(x,\n",
        "            y,\n",
        "            color='green',\n",
        "            marker='*',\n",
        "            s=100,\n",
        "            alpha=0.1)\n",
        "\n",
        "# Adding a title\n",
        "plt.title('Salary in $1000s vs. Number of years in the Company as CEO')\n",
        "\n",
        "# Adding the x and y labels\n",
        "plt.xlabel('Years')\n",
        "plt.ylabel('Salary')\n",
        "\n",
        "plt.show()"
      ],
      "metadata": {
        "id": "CXJI-EbA0ViE"
      },
      "execution_count": null,
      "outputs": []
    },
    {
      "cell_type": "markdown",
      "source": [
        "### Border"
      ],
      "metadata": {
        "id": "SHTIXupJ0k-G"
      }
    },
    {
      "cell_type": "code",
      "source": [
        "plt.scatter(x,\n",
        "            y,\n",
        "            color='green',\n",
        "            marker='*',\n",
        "            s=100,\n",
        "            alpha=0.5,\n",
        "            edgecolors='black',\n",
        "            linewidths=1)\n",
        "\n",
        "# Adding a title\n",
        "plt.title('Salary in $1000s vs. Number of years in the Company as CEO')\n",
        "\n",
        "# Adding the x and y labels\n",
        "plt.xlabel('Years')\n",
        "plt.ylabel('Salary')\n",
        "\n",
        "plt.show()"
      ],
      "metadata": {
        "id": "B-Rz3QGr0myj"
      },
      "execution_count": null,
      "outputs": []
    },
    {
      "cell_type": "markdown",
      "source": [
        "### Adding a legend"
      ],
      "metadata": {
        "id": "VCGScu13zttd"
      }
    },
    {
      "cell_type": "code",
      "source": [
        "plt.scatter(x,\n",
        "            y,\n",
        "            color='green',\n",
        "            marker='*',\n",
        "            s=100,\n",
        "            alpha=0.5,\n",
        "            edgecolors='black',\n",
        "            linewidths=0.5,\n",
        "            label='Salary')\n",
        "\n",
        "# Adding a title\n",
        "plt.title('Salary in $1000s vs. Number of years in the Company as CEO')\n",
        "\n",
        "# Adding the x and y labels\n",
        "plt.xlabel('Years')\n",
        "plt.ylabel('Salary')\n",
        "\n",
        "# Adding the legend\n",
        "plt.legend()\n",
        "\n",
        "plt.show()"
      ],
      "metadata": {
        "id": "cOMaoS2hzwiX"
      },
      "execution_count": null,
      "outputs": []
    },
    {
      "cell_type": "markdown",
      "source": [
        "## Multiple plots"
      ],
      "metadata": {
        "id": "3g1bId3Y-NO-"
      }
    },
    {
      "cell_type": "code",
      "source": [
        "z = data['mktval']\n",
        "\n",
        "plt.scatter(x, y, label='Salary')\n",
        "\n",
        "# Adding a second plot\n",
        "plt.scatter(x, z, label='Market Value', color='red', alpha=0.5)\n",
        "\n",
        "plt.xlabel('Year')\n",
        "plt.ylabel('Amount')\n",
        "plt.title('Salary and Market Value vs. Year')\n",
        "plt.legend()\n",
        "\n",
        "plt.show()\n"
      ],
      "metadata": {
        "id": "dbm3UHmW-Pga"
      },
      "execution_count": null,
      "outputs": []
    },
    {
      "cell_type": "markdown",
      "source": [
        "## Subplot"
      ],
      "metadata": {
        "id": "uiklYZnk-7Cm"
      }
    },
    {
      "cell_type": "code",
      "source": [
        "# Create first subplot\n",
        "plt.subplot(2, 1, 1)\n",
        "plt.scatter(x, y, label='Salary')\n",
        "plt.xlabel('Year')\n",
        "plt.ylabel('Amount')\n",
        "plt.title('Salary vs. Year')\n",
        "plt.legend()\n",
        "\n",
        "# Create second subplot\n",
        "plt.subplot(2, 1, 2)\n",
        "plt.scatter(x, z, label='Market Value', color='red')\n",
        "plt.xlabel('Year')\n",
        "plt.ylabel('Amount')\n",
        "plt.title('Market Value vs. Year')\n",
        "plt.legend()\n",
        "\n",
        "# Adjust layout\n",
        "plt.tight_layout()\n",
        "\n",
        "plt.show()\n"
      ],
      "metadata": {
        "id": "lBCAYAJ0_A53"
      },
      "execution_count": null,
      "outputs": []
    }
  ]
}